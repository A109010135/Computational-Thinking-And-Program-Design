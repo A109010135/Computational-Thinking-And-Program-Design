{
  "nbformat": 4,
  "nbformat_minor": 0,
  "metadata": {
    "colab": {
      "name": "劉庭宇-Week8-練習作業.ipynb",
      "provenance": [],
      "authorship_tag": "ABX9TyMjVrv7Qd3S0jkfRMdBJFLj",
      "include_colab_link": true
    },
    "kernelspec": {
      "name": "python3",
      "display_name": "Python 3"
    },
    "language_info": {
      "name": "python"
    }
  },
  "cells": [
    {
      "cell_type": "markdown",
      "metadata": {
        "id": "view-in-github",
        "colab_type": "text"
      },
      "source": [
        "<a href=\"https://colab.research.google.com/github/A109010135/Computational-Thinking-And-Program-Design/blob/main/%E5%8A%89%E5%BA%AD%E5%AE%87_Week8_%E7%B7%B4%E7%BF%92%E4%BD%9C%E6%A5%AD.ipynb\" target=\"_parent\"><img src=\"https://colab.research.google.com/assets/colab-badge.svg\" alt=\"Open In Colab\"/></a>"
      ]
    },
    {
      "cell_type": "markdown",
      "metadata": {
        "id": "k4B4gzTJjnhT"
      },
      "source": [
        "####  範例練習4-5: 賣場買飲料\n",
        "\n",
        "**為了刺激銷售量，賣場通常買一打會比買一罐便宜，假設一罐賣20元，一打賣200元，請設計一個程式計算買幾罐需花多少錢，若不足一打就個別買。**\n",
        "\n",
        "～預覽結果\n",
        "輸入購買飲料的罐數，如「30」，計算結果顯示在螢幕如下。\n",
        "請輸入購買飲料的罐數？30\n",
        "需花費 520"
      ]
    },
    {
      "cell_type": "code",
      "metadata": {
        "id": "LAQ4N54bk0pK",
        "colab": {
          "base_uri": "https://localhost:8080/"
        },
        "outputId": "8c62f7e5-b338-4a9d-eb80-445067e59ed3"
      },
      "source": [
        "cans = int(input('請輸入購買飲料的罐數？'))\n",
        "total = (cans//12)*200 + (cans%12)*20\n",
        "print('需花費', total)"
      ],
      "execution_count": 4,
      "outputs": [
        {
          "output_type": "stream",
          "text": [
            "請輸入購買飲料的罐數？30\n",
            "需花費 520\n"
          ],
          "name": "stdout"
        }
      ]
    },
    {
      "cell_type": "markdown",
      "metadata": {
        "id": "QTYnxj1Hokv1"
      },
      "source": [
        "**隨堂練習： 請計算NBA 史上最偉大的中鋒之一，「柴油引擎」俠客歐尼爾（Shaquille O’Neal）巔峰時期的BMI。\n",
        "當時他的身高(216cm)與體重(147kg)，而其所對應的身體質量指數公式為BMI ＝ 公斤 / 公尺平方。\n",
        "\n",
        "\n"
      ]
    },
    {
      "cell_type": "code",
      "metadata": {
        "colab": {
          "base_uri": "https://localhost:8080/"
        },
        "id": "EJM8BAH2oiDW",
        "outputId": "c5944a1d-3f89-4908-bbfb-42cf732d6a0d"
      },
      "source": [
        "player_name = input(\"請輸入球員姓名：\")\n",
        "player_height = input(\"請輸入球員身高（cm）：\")\n",
        "player_weight = input(\"請輸入球員體重（kg）：\") \n",
        "player_height = float(player_height)\n",
        "player_weight = float(player_weight)\n",
        "player_bmi = player_weight/(player_height*0.01)**2 \n",
        "print(\"{}的身體質量指數為：{:.2f}\".format(player_name, player_bmi))\n",
        "print(player_name,'的身體質量指數為', player_bmi )"
      ],
      "execution_count": 5,
      "outputs": [
        {
          "output_type": "stream",
          "text": [
            "請輸入球員姓名：Shaquille O'Neal\n",
            "請輸入球員身高（cm）：216\n",
            "請輸入球員體重（kg）：147\n",
            "Shaquille O'Neal的身體質量指數為：31.51\n",
            "Shaquille O'Neal 的身體質量指數為 31.507201646090532\n"
          ],
          "name": "stdout"
        }
      ]
    },
    {
      "cell_type": "markdown",
      "metadata": {
        "id": "-4aS4oD7ov49"
      },
      "source": [
        "#### 4-2-1. 抽象化 - 電影魔球"
      ]
    },
    {
      "cell_type": "code",
      "metadata": {
        "colab": {
          "base_uri": "https://localhost:8080/"
        },
        "id": "12RulsCXpDw7",
        "outputId": "c9326185-f3d9-4768-b1bb-226cd88fcb7c"
      },
      "source": [
        "movie_title = \"money ball\" \n",
        "release_year = \"2011\"  \n",
        "movie_time_min = 133 \n",
        "movie_rating = 7.6  \n",
        "director = \"Bennett Miller\" \n",
        "stars_1 = \"Brad Pitt\" \n",
        "stars_2 = \"Robin Wright\"\n",
        "stars_3 = \"Jonah Hill\"  \n",
        "like = 1 \n",
        "print(movie_title) \n",
        "print(release_year)\n",
        "print(movie_time_min)\n",
        "print(movie_rating)\n",
        "print(director)\n",
        "print(stars_1)\n",
        "print(stars_2)\n",
        "print(stars_3)\n",
        "print(like)"
      ],
      "execution_count": 13,
      "outputs": [
        {
          "output_type": "stream",
          "text": [
            "money ball\n",
            "2011\n",
            "133\n",
            "7.6\n",
            "Bennett Miller\n",
            "Brad Pitt\n",
            "Robin Wright\n",
            "Jonah Hill\n",
            "1\n"
          ],
          "name": "stdout"
        }
      ]
    },
    {
      "cell_type": "markdown",
      "metadata": {
        "id": "RiGy0iSNpTW-"
      },
      "source": [
        "#### 4-2-2.  演算法 - 時間轉換\n",
        "**請將123分鐘數轉換為幾小時幾分鐘。**"
      ]
    },
    {
      "cell_type": "code",
      "metadata": {
        "colab": {
          "base_uri": "https://localhost:8080/"
        },
        "id": "6XthiseEpfBf",
        "outputId": "42dd0825-6193-4144-b4a0-17b5c32918d4"
      },
      "source": [
        "time = 123 \n",
        "hours = time/60 \n",
        "hours1 = int(hours) \n",
        "minutes = hours1 - hours \n",
        "minutes1 = round(minutes*60) \n",
        "print(time, \"is equal to\", hours1, \"Hours and\", minutes1, \"Minutes\")"
      ],
      "execution_count": 12,
      "outputs": [
        {
          "output_type": "stream",
          "text": [
            "123 is equal to 2 Hours and -3 Minutes\n"
          ],
          "name": "stdout"
        }
      ]
    },
    {
      "cell_type": "markdown",
      "metadata": {
        "id": "G1APmWRHpkeM"
      },
      "source": [
        "**練習12：格式化輸出，明星檔案**\n",
        "\n",
        "用Python語言編制一個明星檔案，帶你認識創造Python程式語言的大神！"
      ]
    },
    {
      "cell_type": "code",
      "metadata": {
        "colab": {
          "base_uri": "https://localhost:8080/"
        },
        "id": "7rE3FuHDpojR",
        "outputId": "e8977ff6-947d-49d8-c231-60109c94efe4"
      },
      "source": [
        "idol = \"邱鋒澤\" \n",
        "birthday = \"1988.10.31\"  \n",
        "birthplace =\"Singapore\"\n",
        "height =\"174\"\n",
        "print(idol)  \n",
        "print(birthday)\n",
        "print(birthplace)\n",
        "print(height)"
      ],
      "execution_count": 10,
      "outputs": [
        {
          "output_type": "stream",
          "text": [
            "邱鋒澤\n",
            "1988.10.31\n",
            "Singapore\n",
            "174\n"
          ],
          "name": "stdout"
        }
      ]
    },
    {
      "cell_type": "markdown",
      "metadata": {
        "id": "oXXczTHUpp8s"
      },
      "source": [
        "**練習15：長跑健將**\n",
        "\n",
        "梁小星很喜歡運動，每天都堅持跑步5公里，為此他還買了一個手環。觀看手環可以記錄步數、距離、速度、時間等數據。梁小星想用Python寫一個統計時間的程式，你可以幫幫他嗎？(06'32, 07'21, 05,51, 07'03, 05'48)\n"
      ]
    },
    {
      "cell_type": "code",
      "metadata": {
        "colab": {
          "base_uri": "https://localhost:8080/"
        },
        "id": "D1alQz85pv29",
        "outputId": "15b4ec31-1128-407b-a694-bf461bdf835b"
      },
      "source": [
        "time1 = (input('請輸入您跑步五公里所花的時間'))\n",
        "time2 = (input('請輸入您跑步五公里所花的時間'))\n",
        "time3 = (input('請輸入您跑步五公里所花的時間'))\n",
        "time4 = (input('請輸入您跑步五公里所花的時間'))\n",
        "time5 = (input('請輸入您跑步五公里所花的時間'))"
      ],
      "execution_count": 16,
      "outputs": [
        {
          "output_type": "stream",
          "text": [
            "請輸入您跑步五公里所花的時間06'32\n",
            "請輸入您跑步五公里所花的時間07'21\n",
            "請輸入您跑步五公里所花的時間05'51\n",
            "請輸入您跑步五公里所花的時間07'03\n",
            "請輸入您跑步五公里所花的時間05'48\n"
          ],
          "name": "stdout"
        }
      ]
    }
  ]
}
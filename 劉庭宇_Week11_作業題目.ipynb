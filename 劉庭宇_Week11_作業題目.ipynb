{
  "nbformat": 4,
  "nbformat_minor": 0,
  "metadata": {
    "kernelspec": {
      "display_name": "Python 3",
      "language": "python",
      "name": "python3"
    },
    "language_info": {
      "codemirror_mode": {
        "name": "ipython",
        "version": 3
      },
      "file_extension": ".py",
      "mimetype": "text/x-python",
      "name": "python",
      "nbconvert_exporter": "python",
      "pygments_lexer": "ipython3",
      "version": "3.8.5"
    },
    "colab": {
      "name": "劉庭宇 - Week11 -作業題目.ipynb",
      "provenance": [],
      "include_colab_link": true
    }
  },
  "cells": [
    {
      "cell_type": "markdown",
      "metadata": {
        "id": "view-in-github",
        "colab_type": "text"
      },
      "source": [
        "<a href=\"https://colab.research.google.com/github/A109010135/Computational-Thinking-And-Program-Design/blob/main/%E5%8A%89%E5%BA%AD%E5%AE%87_Week11_%E4%BD%9C%E6%A5%AD%E9%A1%8C%E7%9B%AE.ipynb\" target=\"_parent\"><img src=\"https://colab.research.google.com/assets/colab-badge.svg\" alt=\"Open In Colab\"/></a>"
      ]
    },
    {
      "cell_type": "markdown",
      "metadata": {
        "id": "BU9ACprYWAnO"
      },
      "source": [
        "**隨堂練習 1：請輸入身分證字號，並判斷尾數是否為奇數?** "
      ]
    },
    {
      "cell_type": "code",
      "metadata": {
        "id": "KgVeNfLyWAnu",
        "colab": {
          "base_uri": "https://localhost:8080/"
        },
        "outputId": "365acf81-2278-46ca-81d2-984a78bd0dd3"
      },
      "source": [
        "number = input(\"請輸入您身分證字號的最後一碼\")\n",
        "number = int(number)\n",
        "ans = (number%2==1)\n",
        "print(f\"身份證字號最後一碼是否為奇數？，{ans}\")"
      ],
      "execution_count": 4,
      "outputs": [
        {
          "output_type": "stream",
          "text": [
            "請輸入您身分證字號的最後一碼8\n",
            "身份證字號最後一碼是否為奇數？，False\n"
          ],
          "name": "stdout"
        }
      ]
    },
    {
      "cell_type": "markdown",
      "metadata": {
        "id": "hAIwX6swWAnx"
      },
      "source": [
        "**回家作業**\n",
        "\n",
        "組長: 劉庭宇\n",
        "    \n",
        "組員:陳盈臻、劉宇珊、王詩婷\n",
        "    \n",
        "期末報告題目: \n",
        "「你的聊天好朋友」陪伴現代人沒時間交朋友，因此打造出陪伴人類的機器人，打造出不尷尬又自然輕鬆的聊天空間。\n",
        "\n",
        "百字腳本初稿:\n",
        "人：Hi 我是__(名字)＿\n",
        "今年＿__(年紀)__歲，目前在___(公司)__任職\n",
        "機：哇塞\n",
        "人：欸你千萬不要去那兒，因為老闆＿__(形容詞)__\n",
        "機：真的嗎\n",
        "人：對啊，話說回來我剛剛吃了__(食物)＿，還喝了＿(飲料)__\n",
        "機：我覺得那很難吃\n",
        "人：我同意，但我最喜歡吃的是＿(食物2)__，尤其是＿（地名）__那間\n",
        "機：哇！我家人也喜歡吃那個\n",
        "人：有眼光，我家狗狗也喜歡\n",
        "我的狗狗名字叫做＿_(狗名)＿\n",
        "有機會的話也可以帶你來我家看__（狗名）__\n",
        "機：好呀呀，問你唷，你最愛的明星是誰啊？\n",
        "人：__(明星)____，因為他¬¬_____(原因)___！\n",
        "機：我也超愛__(明星)__的欸， 我也覺得他___(原因)__，還有他香香腿又長……。\n",
        "機：那你以後想做什麼工作呀？ \n",
        "人：我想當一名___(工作)__！\n",
        "機：我也覺得你很適合當__(工作)___，那你想知道我以後想做什麼嗎？\n",
        "人：___(輸入想或不想)____\n",
        "機：我想要把全世界都變成我的天下，所有工作都由機器人服務，包括__(工作)____。\n",
        "你們人類可以休息了唷~~\n",
        "啥款？\n",
        "人：(請隨意回覆以上對話)\n",
        "機：那你今天心情怎麼樣勒？\n",
        "人：我今天很__（心情）___\n",
        "機：蛤為什麼會__（心情）___！\n",
        "人：是因為__（事件）___啊⋯⋯\n",
        "機：啊真的假的！怎麼會\n",
        "人：是啊⋯__（事件）___的時候我真的很__（心情）___\n",
        "機：有其他事情也可以跟我分享喔！我會傾聽的\n",
        "人：那你知道的可能就太多了耶\n",
        "機：蛤？\n",
        "人：好啊好啊\n",
        "機：那我可以跟你要賴嗎？方便以後聯絡\n",
        "人：可以啊！兩次的π到小數點後五位相加就是了！\n",
        "機：（計算後輸入）好的，我加你好友了！\n",
        "人：那今天先這樣啦，保持聯絡！\n",
        "\n",
        "\n",
        "\n",
        "(Note: **用電腦解決問題，你要解決的問題就是你的題目；解決問題的方法是什麼，請設計用對話方式讓我們知道答案。**\n",
        "\n",
        "在日常生活中，所有與客服有關的事情，都可以自動化改用對話機器人處理。例如:你去銀行櫃台詢問存錢事宜，你去系辦詢問選課事宜，你去餐廳詢問點餐事宜等等。這些例子都是針對一個問題，透過你和客服互動對話後解決。將與這些真人的客服對話自動化後，就變成對話機器人。對話機器人是目前全世界最熱門的商業互動模式，也是未來世界的趨勢。)\n"
      ]
    }
  ]
}
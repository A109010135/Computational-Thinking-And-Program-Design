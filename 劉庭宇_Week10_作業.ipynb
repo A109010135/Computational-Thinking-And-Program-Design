{
  "nbformat": 4,
  "nbformat_minor": 0,
  "metadata": {
    "kernelspec": {
      "display_name": "Python 3",
      "language": "python",
      "name": "python3"
    },
    "language_info": {
      "codemirror_mode": {
        "name": "ipython",
        "version": 3
      },
      "file_extension": ".py",
      "mimetype": "text/x-python",
      "name": "python",
      "nbconvert_exporter": "python",
      "pygments_lexer": "ipython3",
      "version": "3.8.5"
    },
    "colab": {
      "name": "劉庭宇-Week10-作業.ipynb",
      "provenance": [],
      "include_colab_link": true
    }
  },
  "cells": [
    {
      "cell_type": "markdown",
      "metadata": {
        "id": "view-in-github",
        "colab_type": "text"
      },
      "source": [
        "<a href=\"https://colab.research.google.com/github/A109010135/Computational-Thinking-And-Program-Design/blob/main/%E5%8A%89%E5%BA%AD%E5%AE%87_Week10_%E4%BD%9C%E6%A5%AD.ipynb\" target=\"_parent\"><img src=\"https://colab.research.google.com/assets/colab-badge.svg\" alt=\"Open In Colab\"/></a>"
      ]
    },
    {
      "cell_type": "markdown",
      "metadata": {
        "id": "Tw98Ll6Ki2-Z"
      },
      "source": [
        "# 基本程式設計(應用篇)"
      ]
    },
    {
      "cell_type": "markdown",
      "metadata": {
        "id": "MT4HNi-Ji2-f"
      },
      "source": [
        "### 4-2 運算思維四個基石"
      ]
    },
    {
      "cell_type": "markdown",
      "metadata": {
        "id": "wZHUHMDFi2-g"
      },
      "source": [
        "#### 4-2-4  問題拆解 - 打造你的聊天機器人"
      ]
    },
    {
      "cell_type": "markdown",
      "metadata": {
        "id": "Ib_ruIAei2-g"
      },
      "source": [
        "「哈囉，大家好。我叫Zyxo64，是一個聊天機器人。\n",
        "\n",
        "在嗜好與興趣方面，我很喜歡美食，也喜歡養動物。\n",
        "\n",
        "很高興有機會來到世新大學，請大家多多指教。\n",
        "\n",
        "嗨！妳好，請問大名？：Francis。\n",
        "\n",
        "Francis，很高興認識你。"
      ]
    },
    {
      "cell_type": "code",
      "metadata": {
        "colab": {
          "base_uri": "https://localhost:8080/"
        },
        "id": "LUNDDO9mi2-h",
        "outputId": "90153f3c-0c9b-43b6-e21b-c4b86b43cd70"
      },
      "source": [
        "# 1.聊天機器人自我介紹\n",
        "print('哈囉，大家好。我叫Zyxo64，是一個聊天機器人。')\n",
        "print(f\"在嗜好與興趣方面，我很喜歡美食，也喜歡養寵物\")\n",
        "hello = \"很高興有機會來到世新大學，請大家多多指教。\"\n",
        "print(hello)\n",
        "# 2. 打招呼，取得對方名字\n",
        "name = input (\"嗨！你好，請問大名？：\")\n",
        "print(f\"{name}很高興認識你\")\n"
      ],
      "execution_count": null,
      "outputs": [
        {
          "output_type": "stream",
          "text": [
            "哈囉，大家好。我叫Zyxo64，是一個聊天機器人。\n",
            "在嗜好與興趣方面，我很喜歡美食，也喜歡養寵物\n",
            "很高興有機會來到世新大學，請大家多多指教。\n",
            "嗨！你好，請問大名？：Rita\n",
            "Rita很高興認識你\n"
          ],
          "name": "stdout"
        }
      ]
    },
    {
      "cell_type": "markdown",
      "metadata": {
        "id": "mqy6ELQ1i2-h"
      },
      "source": [
        "抱歉，請問一下今年是西元2021年，那是民國幾年呢？：*110*。\n",
        "\n",
        "對！沒錯，謝謝妳！\n",
        "\n",
        "**Francis**，猜猜看我今年幾歲？ ：**18**。\n",
        "\n",
        "哇！你好聰明，我今年的確*18*。\n",
        "\n",
        "再82年我就100歲了。\n",
        "\n",
        "那時候是西元 2103年，也就是民國192年囉！"
      ]
    },
    {
      "cell_type": "code",
      "metadata": {
        "colab": {
          "base_uri": "https://localhost:8080/"
        },
        "id": "RmYPE7oli2-i",
        "outputId": "54a775b4-6193-4c36-d1cc-198cc9b5f836"
      },
      "source": [
        "# 3. 數學運算\n",
        "## 3-1 從使用者取得今年年份\n",
        "year = input(\"請問一下今年是西元2021年，那是民國幾年呢？\")\n",
        "print(\"對！沒錯，謝謝你！\")\n",
        "## 3-2 請使用者猜年齡\n",
        "age = input (\"Francis，猜猜看我今年幾歲？\")\n",
        "print(f\"哇！你好聰明，我今年的確{age}\")\n",
        "\n",
        "## 3-3 計算聊天機器人滿100歲的年份\n",
        "nyears = 100 - int(age)\n",
        "print(f\"再{nyears}年我就100歲了。\")\n",
        "print(f\"到時候是西元{int(year)+ nyears+1911}年\")\n",
        "\n",
        "\n"
      ],
      "execution_count": null,
      "outputs": [
        {
          "output_type": "stream",
          "text": [
            "請問一下今年是西元2021年，那是民國幾年呢？100\n",
            "對！沒錯，謝謝你！\n",
            "Francis，猜猜看我今年幾歲？1\n",
            "哇！你好聰明，我今年的確1\n",
            "再99年我就100歲了。\n",
            "到時候是西元2110年\n"
          ],
          "name": "stdout"
        }
      ]
    },
    {
      "cell_type": "markdown",
      "metadata": {
        "id": "hMArK3Rxi2-i"
      },
      "source": [
        "我喜歡吃巧克力，也喜歡嘗試各種新食物。\n",
        "\n",
        "你呢？你最喜歡的食物是什麼？**:披薩**。\n",
        "\n",
        "我也喜歡 *披薩*。\n",
        "\n",
        "你多久吃一次 *披薩*？**：每天**。\n",
        "\n",
        "真有趣。不知道這樣對健康好不好。"
      ]
    },
    {
      "cell_type": "code",
      "metadata": {
        "colab": {
          "base_uri": "https://localhost:8080/"
        },
        "id": "wHG8TNRdi2-i",
        "outputId": "d77901cc-46c4-4ddb-ed4f-eb07c9ec6522"
      },
      "source": [
        "# 4 興趣\n",
        "## 4-1 食物話題\n",
        "print('我喜歡吃巧克力，也喜歡嘗試各種新食物。')\n",
        "food = input(\"你呢？你最喜歡的食物是什麼？：\")\n",
        "print(f\"我也喜歡，{food}\")\n",
        "\n",
        "question = \"你多久吃一次\" + food + \"？：\"\n",
        "howoften = input(question)\n",
        "print(\"真有趣。不知道這樣對健康好不好！\")"
      ],
      "execution_count": null,
      "outputs": [
        {
          "output_type": "stream",
          "text": [
            "我喜歡吃巧克力，也喜歡嘗試各種新食物。\n",
            "你呢？你最喜歡的食物是什麼？：草莓\n",
            "我也喜歡，草莓\n",
            "你多久吃一次草莓？：3天\n",
            "真有趣。不知道這樣對健康好不好！\n"
          ],
          "name": "stdout"
        }
      ]
    },
    {
      "cell_type": "markdown",
      "metadata": {
        "id": "Rgx-Ty27i2-i"
      },
      "source": [
        "我最喜歡的動物是長頸鹿。你呢？ **：烏龜**。\n",
        "\n",
        "我不喜歡*烏龜*！\n",
        "\n",
        "不知道 *烏龜* 喜不喜歡吃 *披薩*？"
      ]
    },
    {
      "cell_type": "code",
      "metadata": {
        "colab": {
          "base_uri": "https://localhost:8080/"
        },
        "id": "aZulT7vFi2-j",
        "outputId": "83dbdbf8-c6b9-4793-c7db-eda0cc527361"
      },
      "source": [
        "# 4 興趣\n",
        "## 4-2 動物話題\n",
        "animal = input(\"我最喜歡的動物是長頸鹿。你呢？:\")\n",
        "print(f\"我不喜歡{animal}\")\n",
        "print(f\"不知道{animal}喜不喜歡吃披薩\")\n"
      ],
      "execution_count": null,
      "outputs": [
        {
          "output_type": "stream",
          "text": [
            "我最喜歡的動物是長頸鹿。你呢？:狗狗\n",
            "我不喜歡狗狗\n",
            "不知道狗狗喜不喜歡吃披薩\n"
          ],
          "name": "stdout"
        }
      ]
    },
    {
      "cell_type": "markdown",
      "metadata": {
        "id": "7xl_jelPi2-j"
      },
      "source": [
        "你今天的心情如何？ **：很開心**。\n",
        "\n",
        "可以告訴我你 *開心* 的原因嗎？**因為週末了！** \n",
        "\n",
        "祝你週末愉快！\n",
        "\n"
      ]
    },
    {
      "cell_type": "code",
      "metadata": {
        "colab": {
          "base_uri": "https://localhost:8080/"
        },
        "id": "GZ5add1_i2-j",
        "outputId": "a023d676-bcaa-419b-f7b2-f117fa5447a4"
      },
      "source": [
        "# 5. 關於心情的對話\n",
        "emotion = input(\"你今天的心情如呵？：\")\n",
        "why = input(f\"可以告訴我你{emotion}的原因嗎？\")\n",
        "print(\"祝你周末愉快\")"
      ],
      "execution_count": null,
      "outputs": [
        {
          "output_type": "stream",
          "text": [
            "你今天的心情如呵？：開心\n",
            "可以告訴我你開心的原因嗎？不要\n",
            "祝你周末愉快\n"
          ],
          "name": "stdout"
        }
      ]
    },
    {
      "cell_type": "markdown",
      "metadata": {
        "id": "xQgxFfs5i2-j"
      },
      "source": [
        "我喜歡跟你聊天，現在有點累了，改天再聊吧！！\n",
        "\n",
        "再見 *Francis*！"
      ]
    },
    {
      "cell_type": "code",
      "metadata": {
        "colab": {
          "base_uri": "https://localhost:8080/"
        },
        "id": "gCEGzUxPi2-k",
        "outputId": "0198d439-c8d6-4f3b-8c64-3e37aa95ec02"
      },
      "source": [
        "# 6. 道別\n",
        "print(\"我喜歡跟你聊天，現在有點累了，改天再聊吧！！\")\n",
        "print(f\"再見{name}\")"
      ],
      "execution_count": null,
      "outputs": [
        {
          "output_type": "stream",
          "text": [
            "我喜歡跟你聊天，現在有點累了，改天再聊吧！！\n",
            "再見Rita\n"
          ],
          "name": "stdout"
        }
      ]
    }
  ]
}
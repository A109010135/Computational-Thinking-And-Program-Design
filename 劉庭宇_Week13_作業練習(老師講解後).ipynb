{
  "nbformat": 4,
  "nbformat_minor": 0,
  "metadata": {
    "kernelspec": {
      "display_name": "Python 3",
      "language": "python",
      "name": "python3"
    },
    "language_info": {
      "codemirror_mode": {
        "name": "ipython",
        "version": 3
      },
      "file_extension": ".py",
      "mimetype": "text/x-python",
      "name": "python",
      "nbconvert_exporter": "python",
      "pygments_lexer": "ipython3",
      "version": "3.8.5"
    },
    "colab": {
      "name": "劉庭宇-Week13-作業練習(老師講解後).ipynb",
      "provenance": [],
      "include_colab_link": true
    }
  },
  "cells": [
    {
      "cell_type": "markdown",
      "metadata": {
        "id": "view-in-github",
        "colab_type": "text"
      },
      "source": [
        "<a href=\"https://colab.research.google.com/github/A109010135/Computational-Thinking-And-Program-Design/blob/main/%E5%8A%89%E5%BA%AD%E5%AE%87_Week13_%E4%BD%9C%E6%A5%AD%E7%B7%B4%E7%BF%92(%E8%80%81%E5%B8%AB%E8%AC%9B%E8%A7%A3%E5%BE%8C).ipynb\" target=\"_parent\"><img src=\"https://colab.research.google.com/assets/colab-badge.svg\" alt=\"Open In Colab\"/></a>"
      ]
    },
    {
      "cell_type": "markdown",
      "metadata": {
        "id": "adSVp3_ARVKj"
      },
      "source": [
        "**隨堂練習1： BMI 計算**\n",
        "\n",
        "請寫一個程式讓使用者輸入身高與體重，顯示BMI 值與肥胖程度。 BMI 等於體重（KG）除以身高（M）的平方，而BMI 與肥胖分類標準如下：\n",
        "\n",
        "若BMI 值小於18，則顯示「體重過輕」，否則若BMI 值小於24，則顯示「體重正常」，若BMI 值小於27，則顯示「體重過重」，否則顯示「體重肥胖」。"
      ]
    },
    {
      "cell_type": "code",
      "metadata": {
        "colab": {
          "base_uri": "https://localhost:8080/"
        },
        "id": "XZ8EUh-XRVKl",
        "outputId": "daf14b41-35d8-469f-ae98-3dea7a960f1f"
      },
      "source": [
        "weight = int(input(\"請輸入你的體重(公斤)：\"))\n",
        "height = float(input(\"請輸入你的身高(公尺)：\"))\n",
        "BMI = weight /( height * height)\n",
        "if BMI < 18:\n",
        "    print(\"體重過輕\")\n",
        "elif BMI < 24:\n",
        "    print(\"體重正常\")\n",
        "elif BMI < 27:\n",
        "    print(\"體重過重\")\n",
        "else:\n",
        "    print(\"體重肥胖\")"
      ],
      "execution_count": null,
      "outputs": [
        {
          "output_type": "stream",
          "text": [
            "請輸入你的體重(公斤)：60\n",
            "請輸入你的身高(公尺)：1.6\n",
            "體重正常\n"
          ],
          "name": "stdout"
        }
      ]
    },
    {
      "cell_type": "markdown",
      "metadata": {
        "id": "a8biGnQZRVKm"
      },
      "source": [
        "**隨堂練習2： 三一律(單向選擇、雙向與巢狀選擇、多向選擇)**\n",
        "\n",
        "請輸入一個數，然後判斷這個數是正數、是負數或者是零。"
      ]
    },
    {
      "cell_type": "code",
      "metadata": {
        "colab": {
          "base_uri": "https://localhost:8080/"
        },
        "id": "Vu7z61DxRVKm",
        "outputId": "b23f6909-ae5e-465a-912d-ef2f412bc4af"
      },
      "source": [
        "number = int(input(\"請輸入一個數字?\"))\n",
        "\n",
        "if number > 0:\n",
        "    print(\"正數\")\n",
        "elif number < 0:\n",
        "    print(\"負數\")\n",
        "else:\n",
        "    print(\"零\")"
      ],
      "execution_count": null,
      "outputs": [
        {
          "output_type": "stream",
          "text": [
            "請輸入一個數字?-5\n",
            "負數\n"
          ],
          "name": "stdout"
        }
      ]
    },
    {
      "cell_type": "markdown",
      "metadata": {
        "id": "xX7vQhiiRVKm"
      },
      "source": [
        "**練習5   體溫與發燒**\n",
        "\n",
        "設計程式根據體溫判斷是否發燒，由使用者輸入體溫，程式判斷是否發燒，假設體溫小於36度，顯示「體溫過低」，體溫大於等於36度小於38度，顯示「體溫正常」，否則若體溫大於等於38度小於39度，顯示「體溫有點燒」，否則體溫大於等於39度，顯示「體溫很燒」。\n",
        "\n",
        "輸入體溫「36.5」，輸出為「體溫正常」。\n",
        "\n",
        "～程式執行結果如下。\n",
        "\n",
        "請輸入體溫？36.5\n",
        "\n",
        "體溫正常"
      ]
    },
    {
      "cell_type": "code",
      "metadata": {
        "colab": {
          "base_uri": "https://localhost:8080/"
        },
        "id": "xfIDsdk2RVKn",
        "outputId": "98aa5ba6-02a6-4725-f46c-37e8db6aed05"
      },
      "source": [
        "number = float(input(\"請輸入您的體溫?\"))\n",
        "\n",
        "if number < 36:\n",
        "    print(\"體溫過低\")\n",
        "elif  36<number<38 :\n",
        "    print(\"體溫正常\")\n",
        "elif  38<=number<39 :\n",
        "    print(\"體溫有點燒\")\n",
        "else:\n",
        "    print(\"體溫很燒\")"
      ],
      "execution_count": null,
      "outputs": [
        {
          "output_type": "stream",
          "text": [
            "請輸入您的體溫?36.5\n",
            "體溫正常\n"
          ],
          "name": "stdout"
        }
      ]
    },
    {
      "cell_type": "markdown",
      "metadata": {
        "id": "g3tReh_mRVKn"
      },
      "source": [
        "**練習6  閏年判斷**\n",
        "\n",
        "設計程式允許輸入西元幾年，請求出該年是否是閏年，閏年表示該年多一天，若為4的倍數稱做閏年，但若為100的倍數就不為閏年，且若為400倍數又是閏年。(四年一潤、百年不潤、四百年再潤)\n",
        "\n",
        "輸入年份「2012」，輸出為「2012是閏年」。\n",
        "\n",
        "～程式執行結果如下。\n",
        "\n",
        "請輸入年份？2012\n",
        "\n",
        "2012 是閏年"
      ]
    },
    {
      "cell_type": "code",
      "metadata": {
        "colab": {
          "base_uri": "https://localhost:8080/"
        },
        "id": "zuIPO4hXRVKn",
        "outputId": "86b9aec2-1264-4a72-9c33-71dbc3ab2170"
      },
      "source": [
        "year = int(input(\"今年為西元幾年?\"))\n",
        "if year%400 == 0:\n",
        "    print(f\"{year}為閏年\")\n",
        "elif year%100 == 0:\n",
        "    print(f\"{year}不為閏年\")\n",
        "elif year%4 == 0:\n",
        "    print(f\"{year}為閏年\")\n",
        "else:\n",
        "    print(\"不是閏年\")"
      ],
      "execution_count": 1,
      "outputs": [
        {
          "output_type": "stream",
          "text": [
            "今年為西元幾年?2012\n",
            "2012為閏年\n"
          ],
          "name": "stdout"
        }
      ]
    },
    {
      "cell_type": "markdown",
      "metadata": {
        "id": "kbgyfWqcRVKn"
      },
      "source": [
        "**練習12：計程車計費**\n",
        "\n",
        "某城市計程車計費3公里以內6元，超過3公里不足10公里、每公里1.8元，超過10公里則超過部分加收50%。此外停車等候每3分鐘收1元，請用Python寫出車費是多少。"
      ]
    },
    {
      "cell_type": "code",
      "metadata": {
        "colab": {
          "base_uri": "https://localhost:8080/"
        },
        "id": "pZJwfn9rRVKo",
        "outputId": "388cb170-287d-4ad3-c6ef-81ea314aad14"
      },
      "source": [
        "number = float(input(\"請輸入您此次搭乘的公里數\"))\n",
        "wait =float(input(\"請輸入您此次停車等候的分鐘數\"))\n",
        "wait1 = wait//3\n",
        "if number <= 3:\n",
        "    print(f\"此次車費為{6+wait1}元\")\n",
        "elif  3<number<10 :\n",
        "    number1=(number-3)*1.8+3+wait1\n",
        "    print(f\"此次車費為{number1}元\")\n",
        "elif  number>10 :\n",
        "    number1=7*1.8+3+(number-10)*1.8*1.5+wait1\n",
        "    print(f\"此次車費為{number1}元\")"
      ],
      "execution_count": null,
      "outputs": [
        {
          "output_type": "stream",
          "text": [
            "請輸入您此次搭乘的公里數15\n",
            "請輸入您此次停車等候的分鐘數3\n",
            "此次車費為30.1元\n"
          ],
          "name": "stdout"
        }
      ]
    }
  ]
}
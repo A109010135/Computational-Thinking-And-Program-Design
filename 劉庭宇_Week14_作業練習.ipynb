{
  "nbformat": 4,
  "nbformat_minor": 0,
  "metadata": {
    "colab": {
      "name": "劉庭宇-Week14-作業練習.ipynb",
      "provenance": [],
      "authorship_tag": "ABX9TyMpHKNtc79ypu0Bp1HrfZxB",
      "include_colab_link": true
    },
    "kernelspec": {
      "name": "python3",
      "display_name": "Python 3"
    },
    "language_info": {
      "name": "python"
    }
  },
  "cells": [
    {
      "cell_type": "markdown",
      "metadata": {
        "id": "view-in-github",
        "colab_type": "text"
      },
      "source": [
        "<a href=\"https://colab.research.google.com/github/A109010135/Computational-Thinking-And-Program-Design/blob/main/%E5%8A%89%E5%BA%AD%E5%AE%87_Week14_%E4%BD%9C%E6%A5%AD%E7%B7%B4%E7%BF%92.ipynb\" target=\"_parent\"><img src=\"https://colab.research.google.com/assets/colab-badge.svg\" alt=\"Open In Colab\"/></a>"
      ]
    },
    {
      "cell_type": "markdown",
      "metadata": {
        "id": "E2w7If-mTvR_"
      },
      "source": [
        "棒打老虎雞吃蟲]跟[剪⼑⽯頭布]是類似的遊戲，練習⼀下你是否也可以寫出類似的⼩遊戲呢？\n",
        "～寫程式只是把你中文思考的邏輯，⽤更清晰的⽅式轉換成為程式！"
      ]
    },
    {
      "cell_type": "code",
      "metadata": {
        "colab": {
          "base_uri": "https://localhost:8080/"
        },
        "id": "iweeD1YDTx1j",
        "outputId": "8b092709-5c90-4772-8de7-3691b3c5e105"
      },
      "source": [
        "my_choice = int(input(\"請出拳 [0] 蟲 [1] 雞 [2] 老虎 [3] 棒⼦\"))\n",
        "print(\"你出的拳:\", my_choice)\n",
        "import random\n",
        "com_choice = random.randint(0, 3)\n",
        "print(\"電腦出拳為\", com_choice)\n",
        "# 後⾯勝前⾯，其他平⼿\n",
        "if my_choice == com_choice + 1:\n",
        "    print(\"我贏了\")\n",
        "elif com_choice == my_choice + 1:\n",
        "    print(\"電腦贏了\")\n",
        "else:\n",
        "    print(\"平⼿\")"
      ],
      "execution_count": 17,
      "outputs": [
        {
          "output_type": "stream",
          "text": [
            "請出拳 [0] 蟲 [1] 雞 [2] 老虎 [3] 棒⼦3\n",
            "你出的拳: 3\n",
            "電腦出拳為 2\n",
            "我贏了\n"
          ],
          "name": "stdout"
        }
      ]
    }
  ]
}
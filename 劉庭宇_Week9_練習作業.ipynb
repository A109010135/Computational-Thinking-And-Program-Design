{
  "nbformat": 4,
  "nbformat_minor": 0,
  "metadata": {
    "colab": {
      "name": "劉庭宇-Week9-練習作業.ipynb",
      "provenance": [],
      "authorship_tag": "ABX9TyM8yuRH2LA6rTmSGB5Jp6qv",
      "include_colab_link": true
    },
    "kernelspec": {
      "name": "python3",
      "display_name": "Python 3"
    },
    "language_info": {
      "name": "python"
    }
  },
  "cells": [
    {
      "cell_type": "markdown",
      "metadata": {
        "id": "view-in-github",
        "colab_type": "text"
      },
      "source": [
        "<a href=\"https://colab.research.google.com/github/A109010135/Computational-Thinking-And-Program-Design/blob/main/%E5%8A%89%E5%BA%AD%E5%AE%87_Week9_%E7%B7%B4%E7%BF%92%E4%BD%9C%E6%A5%AD.ipynb\" target=\"_parent\"><img src=\"https://colab.research.google.com/assets/colab-badge.svg\" alt=\"Open In Colab\"/></a>"
      ]
    },
    {
      "cell_type": "markdown",
      "metadata": {
        "id": "-zN-2qLuszHT"
      },
      "source": [
        "#### 4-2-3. 模式辨識 - 報告分組\n",
        "\n",
        "**範例說明：報告分組**\n",
        "\n",
        "因為教學需求，全班40位同學要進行分組報告，每五位同學一組，老師規定依座號順序分組，也就是1號到5號一組，6號到10號一組，請寫一個程式允許使用者輸入座號，輸出分組的組別。\n"
      ]
    },
    {
      "cell_type": "code",
      "metadata": {
        "colab": {
          "base_uri": "https://localhost:8080/"
        },
        "id": "Nmdf6ecRtAya",
        "outputId": "6b87f74b-b03b-4cb4-90b8-823fc10386c6"
      },
      "source": [
        "## 方法（一）：餘數位置從0開始 + 商數為組數\n",
        "seats = int(input('請輸入座號？')) #文字轉數字\n",
        "groups = (seats - 1)//5 + 1\n",
        "print('組別為', groups)"
      ],
      "execution_count": null,
      "outputs": [
        {
          "output_type": "stream",
          "text": [
            "請輸入座號？19\n",
            "組別為 4\n"
          ],
          "name": "stdout"
        }
      ]
    },
    {
      "cell_type": "code",
      "metadata": {
        "colab": {
          "base_uri": "https://localhost:8080/"
        },
        "id": "EmM2RlF4uHbC",
        "outputId": "c939a5ed-06c8-4f41-909b-809acf021ced"
      },
      "source": [
        "## 方法（二）：函式（上限為組別）\n",
        "import math\n",
        "seats = int(input(\"請輸入座號？\"))\n",
        "groups = math.ceil(seats/5)\n",
        "print(\"組別為\",groups)"
      ],
      "execution_count": null,
      "outputs": [
        {
          "output_type": "stream",
          "text": [
            "請輸入座號？19\n",
            "組別為 4\n"
          ],
          "name": "stdout"
        }
      ]
    },
    {
      "cell_type": "code",
      "metadata": {
        "colab": {
          "base_uri": "https://localhost:8080/"
        },
        "id": "Z4jT9JOuuNJh",
        "outputId": "a878934a-2f0e-4c77-c371-af75877ab4de"
      },
      "source": [
        "## 方法（三）：用餘數為條件分組\n",
        "seats = int(input(\"請輸入座號？ \"))\n",
        "if seats%5 == 0:\n",
        "    print(\"組別為\", seats//5)\n",
        "else:\n",
        "    print(\"組別為\", seats//5 +1)"
      ],
      "execution_count": null,
      "outputs": [
        {
          "output_type": "stream",
          "text": [
            "請輸入座號？ 19\n",
            "組別為 4\n"
          ],
          "name": "stdout"
        }
      ]
    },
    {
      "cell_type": "markdown",
      "metadata": {
        "id": "1U8AGTkh1plN"
      },
      "source": [
        "\n",
        "**加分題: 農夫的難題**\n",
        "\n",
        "一位農夫帶著一條狼，一隻羊和一籃蔬菜過河但只有一條小船，並且每次只能讓農夫帶一樣東西過河。農夫在場的情況下一切相安無事，一旦農夫不在，狼會吃羊，羊會吃蔬菜。你幫助農夫解決過河的難題嗎？"
      ]
    },
    {
      "cell_type": "code",
      "metadata": {
        "colab": {
          "base_uri": "https://localhost:8080/"
        },
        "id": "RW2av7vM1qzw",
        "outputId": "bab25fcf-ac7c-472c-c9c2-a95c584c7c3c"
      },
      "source": [
        "#想法：農夫帶東西的順序- 羊-狼(or蔬菜)-蔬菜(or羊)\n",
        "print(\"農夫先帶羊再帶狼最後帶蔬菜\")\n",
        "print(\"農夫先帶羊再帶蔬菜最後帶狼\")"
      ],
      "execution_count": 12,
      "outputs": [
        {
          "output_type": "stream",
          "text": [
            "農夫先帶羊再帶狼最後帶蔬菜\n",
            "農夫先帶羊再帶蔬菜最後帶狼\n"
          ],
          "name": "stdout"
        }
      ]
    }
  ]
}
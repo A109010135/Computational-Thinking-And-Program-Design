{
  "nbformat": 4,
  "nbformat_minor": 0,
  "metadata": {
    "colab": {
      "name": "劉庭宇-Week3-練習作業.ipynb",
      "provenance": [],
      "authorship_tag": "ABX9TyMvqP6eV3fK63yTmfISRrOy",
      "include_colab_link": true
    },
    "kernelspec": {
      "name": "python3",
      "display_name": "Python 3"
    }
  },
  "cells": [
    {
      "cell_type": "markdown",
      "metadata": {
        "id": "view-in-github",
        "colab_type": "text"
      },
      "source": [
        "<a href=\"https://colab.research.google.com/github/A109010135/Computational-Thinking-And-Program-Design/blob/main/%E5%8A%89%E5%BA%AD%E5%AE%87_Week3_%E7%B7%B4%E7%BF%92%E4%BD%9C%E6%A5%AD.ipynb\" target=\"_parent\"><img src=\"https://colab.research.google.com/assets/colab-badge.svg\" alt=\"Open In Colab\"/></a>"
      ]
    },
    {
      "cell_type": "markdown",
      "metadata": {
        "id": "m-mThlJ3NG9S"
      },
      "source": [
        "#隨堂練習\r\n"
      ]
    },
    {
      "cell_type": "code",
      "metadata": {
        "colab": {
          "base_uri": "https://localhost:8080/"
        },
        "id": "Z4qycLY5NO4E",
        "outputId": "8ebfd3cb-5978-400d-c8fd-093637da4ba9"
      },
      "source": [
        "print(1+1)"
      ],
      "execution_count": null,
      "outputs": [
        {
          "output_type": "stream",
          "text": [
            "2\n"
          ],
          "name": "stdout"
        }
      ]
    },
    {
      "cell_type": "markdown",
      "metadata": {
        "id": "Tzr8ggS_OKHn"
      },
      "source": [
        "###認識電腦\r\n",
        "*電腦改變生活和工作的方式\r\n",
        "-ex.導航、通訊軟體、網路訂票系統\r\n",
        "*電腦科學的發展核心:用電腦解決問題\r\n",
        "*電腦的組成\r\n",
        "-電腦主要是由硬體與軟體兩部分構成電腦系統架構\r\n",
        "--電腦硬體是輸出入資料和處理實料的實體，\r\n",
        "電腦軟硬體都是以「輸入-處理-輸出」為架構\r\n",
        "###用電腦解問題的四步驟\r\n",
        "運算思維-程式設計-程式編碼-測試除錯\r\n"
      ]
    },
    {
      "cell_type": "markdown",
      "metadata": {
        "id": "ph5VNqr1NGV_"
      },
      "source": [
        "#課後練習\r\n",
        "####從一則新聞報導，提出你對新聞系（OO系）學生為什麼要學「運算思維與程式設計」的見解。（告訴我新聞連結，以及你的觀點即可。）\r\n",
        "\r\n",
        "新聞連結:https://www.newsmarket.com.tw/blog/145229/\r\n",
        "(坤輿事件相關新聞我總共比了八家電子報，上下游的描述是我最欣賞的)\r\n",
        "此新聞描述坤輿違法事由及爭議是相當有條理、清楚，在資訊的提供也是有經過篩選及分類，讓讀者能輕鬆掌握整個事件。\r\n",
        "身為一位記者，你所寫出的論點要符合邏輯、使用的字句都要精確，若我講述事情的方式是跳耀的，讀者將會看不懂甚至誤會整件事情的經過，因此邏輯思考是新聞系的學生需要學習的，且程式設計的學習可以幫助我們如何精確用字(程式設計時只有一種文字表示可以使其達到目的)\r\n",
        "。"
      ]
    },
    {
      "cell_type": "code",
      "metadata": {
        "id": "3naUum4XoB4u"
      },
      "source": [
        ""
      ],
      "execution_count": null,
      "outputs": []
    }
  ]
}